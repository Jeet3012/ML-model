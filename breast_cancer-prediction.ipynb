{
 "cells": [
  {
   "cell_type": "markdown",
   "id": "worst-alloy",
   "metadata": {
    "papermill": {
     "duration": 0.010737,
     "end_time": "2021-04-13T19:01:17.802221",
     "exception": false,
     "start_time": "2021-04-13T19:01:17.791484",
     "status": "completed"
    },
    "tags": []
   },
   "source": [
    "Using the Wisconsin breast cancer diagnostic dataset"
   ]
  },
  {
   "cell_type": "code",
   "execution_count": 1,
   "id": "joint-ridge",
   "metadata": {
    "execution": {
     "iopub.execute_input": "2021-04-13T19:01:17.833608Z",
     "iopub.status.busy": "2021-04-13T19:01:17.832955Z",
     "iopub.status.idle": "2021-04-13T19:01:19.328639Z",
     "shell.execute_reply": "2021-04-13T19:01:19.329205Z"
    },
    "papermill": {
     "duration": 1.517529,
     "end_time": "2021-04-13T19:01:19.329486",
     "exception": false,
     "start_time": "2021-04-13T19:01:17.811957",
     "status": "completed"
    },
    "tags": []
   },
   "outputs": [
    {
     "name": "stdout",
     "output_type": "stream",
     "text": [
      "Libraries have been imported! :)\n",
      "Preview:\n",
      "\n",
      "   diagnosis  radius_mean  texture_mean  perimeter_mean  area_mean  \\\n",
      "0          1        17.99         10.38          122.80     1001.0   \n",
      "1          1        20.57         17.77          132.90     1326.0   \n",
      "2          1        19.69         21.25          130.00     1203.0   \n",
      "3          1        11.42         20.38           77.58      386.1   \n",
      "4          1        20.29         14.34          135.10     1297.0   \n",
      "\n",
      "   smoothness_mean  compactness_mean  concavity_mean  concave points_mean  \\\n",
      "0          0.11840           0.27760          0.3001              0.14710   \n",
      "1          0.08474           0.07864          0.0869              0.07017   \n",
      "2          0.10960           0.15990          0.1974              0.12790   \n",
      "3          0.14250           0.28390          0.2414              0.10520   \n",
      "4          0.10030           0.13280          0.1980              0.10430   \n",
      "\n",
      "   symmetry_mean  ...  radius_worst  texture_worst  perimeter_worst  \\\n",
      "0         0.2419  ...         25.38          17.33           184.60   \n",
      "1         0.1812  ...         24.99          23.41           158.80   \n",
      "2         0.2069  ...         23.57          25.53           152.50   \n",
      "3         0.2597  ...         14.91          26.50            98.87   \n",
      "4         0.1809  ...         22.54          16.67           152.20   \n",
      "\n",
      "   area_worst  smoothness_worst  compactness_worst  concavity_worst  \\\n",
      "0      2019.0            0.1622             0.6656           0.7119   \n",
      "1      1956.0            0.1238             0.1866           0.2416   \n",
      "2      1709.0            0.1444             0.4245           0.4504   \n",
      "3       567.7            0.2098             0.8663           0.6869   \n",
      "4      1575.0            0.1374             0.2050           0.4000   \n",
      "\n",
      "   concave points_worst  symmetry_worst  fractal_dimension_worst  \n",
      "0                0.2654          0.4601                  0.11890  \n",
      "1                0.1860          0.2750                  0.08902  \n",
      "2                0.2430          0.3613                  0.08758  \n",
      "3                0.2575          0.6638                  0.17300  \n",
      "4                0.1625          0.2364                  0.07678  \n",
      "\n",
      "[5 rows x 31 columns]\n",
      " \n",
      "        diagnosis  radius_mean  texture_mean  perimeter_mean    area_mean  \\\n",
      "count  569.000000   569.000000    569.000000      569.000000   569.000000   \n",
      "mean     0.372583    14.127292     19.289649       91.969033   654.889104   \n",
      "std      0.483918     3.524049      4.301036       24.298981   351.914129   \n",
      "min      0.000000     6.981000      9.710000       43.790000   143.500000   \n",
      "25%      0.000000    11.700000     16.170000       75.170000   420.300000   \n",
      "50%      0.000000    13.370000     18.840000       86.240000   551.100000   \n",
      "75%      1.000000    15.780000     21.800000      104.100000   782.700000   \n",
      "max      1.000000    28.110000     39.280000      188.500000  2501.000000   \n",
      "\n",
      "       smoothness_mean  compactness_mean  concavity_mean  concave points_mean  \\\n",
      "count       569.000000        569.000000      569.000000           569.000000   \n",
      "mean          0.096360          0.104341        0.088799             0.048919   \n",
      "std           0.014064          0.052813        0.079720             0.038803   \n",
      "min           0.052630          0.019380        0.000000             0.000000   \n",
      "25%           0.086370          0.064920        0.029560             0.020310   \n",
      "50%           0.095870          0.092630        0.061540             0.033500   \n",
      "75%           0.105300          0.130400        0.130700             0.074000   \n",
      "max           0.163400          0.345400        0.426800             0.201200   \n",
      "\n",
      "       symmetry_mean  ...  radius_worst  texture_worst  perimeter_worst  \\\n",
      "count     569.000000  ...    569.000000     569.000000       569.000000   \n",
      "mean        0.181162  ...     16.269190      25.677223       107.261213   \n",
      "std         0.027414  ...      4.833242       6.146258        33.602542   \n",
      "min         0.106000  ...      7.930000      12.020000        50.410000   \n",
      "25%         0.161900  ...     13.010000      21.080000        84.110000   \n",
      "50%         0.179200  ...     14.970000      25.410000        97.660000   \n",
      "75%         0.195700  ...     18.790000      29.720000       125.400000   \n",
      "max         0.304000  ...     36.040000      49.540000       251.200000   \n",
      "\n",
      "        area_worst  smoothness_worst  compactness_worst  concavity_worst  \\\n",
      "count   569.000000        569.000000         569.000000       569.000000   \n",
      "mean    880.583128          0.132369           0.254265         0.272188   \n",
      "std     569.356993          0.022832           0.157336         0.208624   \n",
      "min     185.200000          0.071170           0.027290         0.000000   \n",
      "25%     515.300000          0.116600           0.147200         0.114500   \n",
      "50%     686.500000          0.131300           0.211900         0.226700   \n",
      "75%    1084.000000          0.146000           0.339100         0.382900   \n",
      "max    4254.000000          0.222600           1.058000         1.252000   \n",
      "\n",
      "       concave points_worst  symmetry_worst  fractal_dimension_worst  \n",
      "count            569.000000      569.000000               569.000000  \n",
      "mean               0.114606        0.290076                 0.083946  \n",
      "std                0.065732        0.061867                 0.018061  \n",
      "min                0.000000        0.156500                 0.055040  \n",
      "25%                0.064930        0.250400                 0.071460  \n",
      "50%                0.099930        0.282200                 0.080040  \n",
      "75%                0.161400        0.317900                 0.092080  \n",
      "max                0.291000        0.663800                 0.207500  \n",
      "\n",
      "[8 rows x 31 columns] \n",
      " \n",
      "\n"
     ]
    }
   ],
   "source": [
    "import pandas as pd\n",
    "import numpy as np\n",
    "import matplotlib.pyplot as plt\n",
    "import seaborn as sns\n",
    "from sklearn.model_selection import train_test_split\n",
    "from sklearn.linear_model import LogisticRegression\n",
    "from sklearn.metrics import classification_report\n",
    "from sklearn.metrics import confusion_matrix\n",
    "%matplotlib inline\n",
    "print(f'Libraries have been imported! :)')\n",
    "\n",
    "df = pd.read_csv('data.csv')\n",
    "\n",
    "df.drop('id',axis=1,inplace=True)\n",
    "df.drop('Unnamed: 32',axis=1,inplace=True)\n",
    "\n",
    "df.diagnosis = df.diagnosis.apply(lambda x:0 if x=='B' else 1).astype(int)\n",
    "#df['diagnosis'] = df['diagnosis'].map({'M':1,'B':0})\n",
    "\n",
    "#print(df.tail())\n",
    "print(f'Preview:\\n\\n{df.head()}')\n",
    "print(' ')\n",
    "print(df.describe(),'\\n','\\n')"
   ]
  },
  {
   "cell_type": "code",
   "execution_count": 2,
   "id": "light-content",
   "metadata": {
    "execution": {
     "iopub.execute_input": "2021-04-13T19:01:19.354831Z",
     "iopub.status.busy": "2021-04-13T19:01:19.353866Z",
     "iopub.status.idle": "2021-04-13T19:01:19.746032Z",
     "shell.execute_reply": "2021-04-13T19:01:19.746515Z"
    },
    "papermill": {
     "duration": 0.406338,
     "end_time": "2021-04-13T19:01:19.746687",
     "exception": false,
     "start_time": "2021-04-13T19:01:19.340349",
     "status": "completed"
    },
    "tags": []
   },
   "outputs": [
    {
     "data": {
      "image/png": "[encoded data removed]",
      "text/plain": [
       "<Figure size 432x288 with 2 Axes>"
      ]
     },
     "metadata": {
      "needs_background": "light"
     },
     "output_type": "display_data"
    }
   ],
   "source": [
    "# simple heat map showing where we are missing data\n",
    "heat_map = sns.heatmap(df.isnull(), yticklabels = False, cbar = True, cmap = \"RdPu\", vmin = 0, vmax = 1)\n",
    "plt.title('Null Value Heatmap')\n",
    "plt.show()"
   ]
  },
  {
   "cell_type": "markdown",
   "id": "isolated-beverage",
   "metadata": {
    "papermill": {
     "duration": 0.010921,
     "end_time": "2021-04-13T19:01:19.769149",
     "exception": false,
     "start_time": "2021-04-13T19:01:19.758228",
     "status": "completed"
    },
    "tags": []
   },
   "source": [
    "**The blank graph shows that there are no null values in the Data.**"
   ]
  },
  {
   "cell_type": "code",
   "execution_count": 3,
   "id": "outstanding-administrator",
   "metadata": {
    "execution": {
     "iopub.execute_input": "2021-04-13T19:01:19.801985Z",
     "iopub.status.busy": "2021-04-13T19:01:19.801311Z",
     "iopub.status.idle": "2021-04-13T19:01:19.943732Z",
     "shell.execute_reply": "2021-04-13T19:01:19.943176Z"
    },
    "papermill": {
     "duration": 0.163298,
     "end_time": "2021-04-13T19:01:19.943889",
     "exception": false,
     "start_time": "2021-04-13T19:01:19.780591",
     "status": "completed"
    },
    "tags": []
   },
   "outputs": [
    {
     "data": {
      "image/png": "[encoded data removed]",
      "text/plain": [
       "<Figure size 720x432 with 1 Axes>"
      ]
     },
     "metadata": {
      "needs_background": "light"
     },
     "output_type": "display_data"
    }
   ],
   "source": [
    "# a count plot shows the counts of observations in each categorical bin using bars\n",
    "# think of it as a histogram across a categorical, instead of quantitative, variable\n",
    "plt.figure(figsize = (10,6))\n",
    "sns.set_style('darkgrid')\n",
    "sns.countplot(data=df, x=df.diagnosis, palette='flare')\n",
    "plt.show()\n"
   ]
  },
  {
   "cell_type": "code",
   "execution_count": 4,
   "id": "guilty-olympus",
   "metadata": {
    "execution": {
     "iopub.execute_input": "2021-04-13T19:01:20.003006Z",
     "iopub.status.busy": "2021-04-13T19:01:19.996752Z",
     "iopub.status.idle": "2021-04-13T19:01:20.240592Z",
     "shell.execute_reply": "2021-04-13T19:01:20.239950Z"
    },
    "papermill": {
     "duration": 0.284387,
     "end_time": "2021-04-13T19:01:20.240733",
     "exception": false,
     "start_time": "2021-04-13T19:01:19.956346",
     "status": "completed"
    },
    "tags": []
   },
   "outputs": [
    {
     "data": {
      "image/png": "[encoded data removed]",
      "text/plain": [
       "<Figure size 720x432 with 1 Axes>"
      ]
     },
     "metadata": {},
     "output_type": "display_data"
    }
   ],
   "source": [
    "# let's check out the spread of mean radius using a histogram\\\n",
    "plt.figure(figsize = (10,6))\n",
    "sns.histplot(df.radius_mean,bins = 25)\n",
    "plt.show()"
   ]
  },
  {
   "cell_type": "code",
   "execution_count": 5,
   "id": "entitled-stanley",
   "metadata": {
    "execution": {
     "iopub.execute_input": "2021-04-13T19:01:20.292405Z",
     "iopub.status.busy": "2021-04-13T19:01:20.277998Z",
     "iopub.status.idle": "2021-04-13T19:01:20.425810Z",
     "shell.execute_reply": "2021-04-13T19:01:20.425252Z"
    },
    "papermill": {
     "duration": 0.172017,
     "end_time": "2021-04-13T19:01:20.425978",
     "exception": false,
     "start_time": "2021-04-13T19:01:20.253961",
     "status": "completed"
    },
    "tags": []
   },
   "outputs": [
    {
     "data": {
      "image/png": "[encoded data removed]",
      "text/plain": [
       "<Figure size 720x432 with 1 Axes>"
      ]
     },
     "metadata": {},
     "output_type": "display_data"
    }
   ],
   "source": [
    "#Let’s visualize the average radius of a tumor by diagnosis via a box plot.\n",
    "plt.figure(figsize = (10,6))\n",
    "sns.boxplot(x=df.diagnosis,y=df.radius_mean,data=df)\n",
    "plt.show()"
   ]
  },
  {
   "cell_type": "markdown",
   "id": "durable-share",
   "metadata": {
    "papermill": {
     "duration": 0.019798,
     "end_time": "2021-04-13T19:01:20.460955",
     "exception": false,
     "start_time": "2021-04-13T19:01:20.441157",
     "status": "completed"
    },
    "tags": []
   },
   "source": [
    "**The Box-plot shows that those diagnosed with cancer tend to have larger radius when compared to those who don't.**"
   ]
  },
  {
   "cell_type": "code",
   "execution_count": 6,
   "id": "suburban-convert",
   "metadata": {
    "execution": {
     "iopub.execute_input": "2021-04-13T19:01:20.513097Z",
     "iopub.status.busy": "2021-04-13T19:01:20.512312Z",
     "iopub.status.idle": "2021-04-13T19:01:20.552777Z",
     "shell.execute_reply": "2021-04-13T19:01:20.552221Z"
    },
    "papermill": {
     "duration": 0.073163,
     "end_time": "2021-04-13T19:01:20.552956",
     "exception": false,
     "start_time": "2021-04-13T19:01:20.479793",
     "status": "completed"
    },
    "tags": []
   },
   "outputs": [
    {
     "name": "stdout",
     "output_type": "stream",
     "text": [
      "diagnosis\n",
      "0    12.146524\n",
      "1    17.462830\n",
      "Name: radius_mean, dtype: float64 \n",
      " \n",
      "\n",
      "<class 'pandas.core.frame.DataFrame'>\n",
      "RangeIndex: 569 entries, 0 to 568\n",
      "Data columns (total 31 columns):\n",
      " #   Column                   Non-Null Count  Dtype  \n",
      "---  ------                   --------------  -----  \n",
      " 0   diagnosis                569 non-null    int32  \n",
      " 1   radius_mean              569 non-null    float64\n",
      " 2   texture_mean             569 non-null    float64\n",
      " 3   perimeter_mean           569 non-null    float64\n",
      " 4   area_mean                569 non-null    float64\n",
      " 5   smoothness_mean          569 non-null    float64\n",
      " 6   compactness_mean         569 non-null    float64\n",
      " 7   concavity_mean           569 non-null    float64\n",
      " 8   concave points_mean      569 non-null    float64\n",
      " 9   symmetry_mean            569 non-null    float64\n",
      " 10  fractal_dimension_mean   569 non-null    float64\n",
      " 11  radius_se                569 non-null    float64\n",
      " 12  texture_se               569 non-null    float64\n",
      " 13  perimeter_se             569 non-null    float64\n",
      " 14  area_se                  569 non-null    float64\n",
      " 15  smoothness_se            569 non-null    float64\n",
      " 16  compactness_se           569 non-null    float64\n",
      " 17  concavity_se             569 non-null    float64\n",
      " 18  concave points_se        569 non-null    float64\n",
      " 19  symmetry_se              569 non-null    float64\n",
      " 20  fractal_dimension_se     569 non-null    float64\n",
      " 21  radius_worst             569 non-null    float64\n",
      " 22  texture_worst            569 non-null    float64\n",
      " 23  perimeter_worst          569 non-null    float64\n",
      " 24  area_worst               569 non-null    float64\n",
      " 25  smoothness_worst         569 non-null    float64\n",
      " 26  compactness_worst        569 non-null    float64\n",
      " 27  concavity_worst          569 non-null    float64\n",
      " 28  concave points_worst     569 non-null    float64\n",
      " 29  symmetry_worst           569 non-null    float64\n",
      " 30  fractal_dimension_worst  569 non-null    float64\n",
      "dtypes: float64(30), int32(1)\n",
      "memory usage: 135.7 KB\n",
      "None \n",
      " \n",
      "\n",
      "X: \n",
      "      radius_mean  texture_mean  perimeter_mean  area_mean  smoothness_mean  \\\n",
      "564        21.56         22.39          142.00     1479.0          0.11100   \n",
      "565        20.13         28.25          131.20     1261.0          0.09780   \n",
      "566        16.60         28.08          108.30      858.1          0.08455   \n",
      "567        20.60         29.33          140.10     1265.0          0.11780   \n",
      "568         7.76         24.54           47.92      181.0          0.05263   \n",
      "\n",
      "     compactness_mean  concavity_mean  concave points_mean  symmetry_mean  \\\n",
      "564           0.11590         0.24390              0.13890         0.1726   \n",
      "565           0.10340         0.14400              0.09791         0.1752   \n",
      "566           0.10230         0.09251              0.05302         0.1590   \n",
      "567           0.27700         0.35140              0.15200         0.2397   \n",
      "568           0.04362         0.00000              0.00000         0.1587   \n",
      "\n",
      "     fractal_dimension_mean  ...  radius_worst  texture_worst  \\\n",
      "564                 0.05623  ...        25.450          26.40   \n",
      "565                 0.05533  ...        23.690          38.25   \n",
      "566                 0.05648  ...        18.980          34.12   \n",
      "567                 0.07016  ...        25.740          39.42   \n",
      "568                 0.05884  ...         9.456          30.37   \n",
      "\n",
      "     perimeter_worst  area_worst  smoothness_worst  compactness_worst  \\\n",
      "564           166.10      2027.0           0.14100            0.21130   \n",
      "565           155.00      1731.0           0.11660            0.19220   \n",
      "566           126.70      1124.0           0.11390            0.30940   \n",
      "567           184.60      1821.0           0.16500            0.86810   \n",
      "568            59.16       268.6           0.08996            0.06444   \n",
      "\n",
      "     concavity_worst  concave points_worst  symmetry_worst  \\\n",
      "564           0.4107                0.2216          0.2060   \n",
      "565           0.3215                0.1628          0.2572   \n",
      "566           0.3403                0.1418          0.2218   \n",
      "567           0.9387                0.2650          0.4087   \n",
      "568           0.0000                0.0000          0.2871   \n",
      "\n",
      "     fractal_dimension_worst  \n",
      "564                  0.07115  \n",
      "565                  0.06637  \n",
      "566                  0.07820  \n",
      "567                  0.12400  \n",
      "568                  0.07039  \n",
      "\n",
      "[5 rows x 30 columns] \n",
      " \n",
      " y: \n",
      " 564    1\n",
      "565    1\n",
      "566    1\n",
      "567    1\n",
      "568    0\n",
      "Name: diagnosis, dtype: int32 \n",
      " \n",
      "\n"
     ]
    }
   ],
   "source": [
    "# calculate the average radius size by diagnosis (0 or 1)\n",
    "print(df.groupby(df.diagnosis).radius_mean.mean(),'\\n','\\n')\n",
    "print(df.info(),'\\n','\\n')\n",
    "#print(df.columns,'\\n','\\n')\n",
    "\n",
    "\n",
    "#Split data into X and y\n",
    "X = df.drop('diagnosis',axis=1) #[1:100]\n",
    "y = df.diagnosis #[1:100]\n",
    "\n",
    "print('X: \\n',X.tail(),'\\n','\\n','y: \\n',y.tail(),'\\n','\\n')\n",
    "\n",
    "#Split data into train set and test set\n",
    "X_train, X_test, y_train, y_test = train_test_split(X, y, test_size = 0.3, random_state = 69)"
   ]
  },
  {
   "cell_type": "code",
   "execution_count": 7,
   "id": "frank-marine",
   "metadata": {
    "execution": {
     "iopub.execute_input": "2021-04-13T19:01:20.604885Z",
     "iopub.status.busy": "2021-04-13T19:01:20.603648Z",
     "iopub.status.idle": "2021-04-13T19:01:20.675611Z",
     "shell.execute_reply": "2021-04-13T19:01:20.676546Z"
    },
    "papermill": {
     "duration": 0.107873,
     "end_time": "2021-04-13T19:01:20.676845",
     "exception": false,
     "start_time": "2021-04-13T19:01:20.568972",
     "status": "completed"
    },
    "tags": []
   },
   "outputs": [
    {
     "name": "stdout",
     "output_type": "stream",
     "text": [
      "No of correct pred =  \t 162\n",
      "No of incorrect pred =   9 \n",
      " \n",
      "\n",
      "Prediction score:  0.9473684210526315 \n",
      " \n",
      "\n"
     ]
    },
    {
     "name": "stderr",
     "output_type": "stream",
     "text": [
      "C:\\Users\\Jeet\\anaconda3\\lib\\site-packages\\sklearn\\linear_model\\_logistic.py:763: ConvergenceWarning: lbfgs failed to converge (status=1):\n",
      "STOP: TOTAL NO. of ITERATIONS REACHED LIMIT.\n",
      "\n",
      "Increase the number of iterations (max_iter) or scale the data as shown in:\n",
      "    https://scikit-learn.org/stable/modules/preprocessing.html\n",
      "Please also refer to the documentation for alternative solver options:\n",
      "    https://scikit-learn.org/stable/modules/linear_model.html#logistic-regression\n",
      "  n_iter_i = _check_optimize_result(\n"
     ]
    }
   ],
   "source": [
    "#Train and predict\n",
    "mod = LogisticRegression()\n",
    "mod.fit(X_train,y_train)\n",
    "pred = mod.predict(X_test)\n",
    "\n",
    "correct_pred= 0 \n",
    "incorrect_pred = 0\n",
    "idx = 0\n",
    "for i in y_test:\n",
    "    if i == pred[idx]:\n",
    "        correct_pred += 1\n",
    "        idx +=1\n",
    "    else:\n",
    "        incorrect_pred += 1\n",
    "        idx += 1\n",
    "\n",
    "print('No of correct pred = ','\\t',correct_pred)\n",
    "print('No of incorrect pred =  ',incorrect_pred,'\\n','\\n')\n",
    "print('Prediction score: ',mod.score(X_test,y_test),'\\n','\\n')"
   ]
  },
  {
   "cell_type": "code",
   "execution_count": 8,
   "id": "demonstrated-simpson",
   "metadata": {
    "execution": {
     "iopub.execute_input": "2021-04-13T19:01:20.742759Z",
     "iopub.status.busy": "2021-04-13T19:01:20.741735Z",
     "iopub.status.idle": "2021-04-13T19:01:20.757586Z",
     "shell.execute_reply": "2021-04-13T19:01:20.758601Z"
    },
    "papermill": {
     "duration": 0.053875,
     "end_time": "2021-04-13T19:01:20.758863",
     "exception": false,
     "start_time": "2021-04-13T19:01:20.704988",
     "status": "completed"
    },
    "tags": []
   },
   "outputs": [
    {
     "name": "stdout",
     "output_type": "stream",
     "text": [
      "              precision    recall  f1-score   support\n",
      "\n",
      "           0       0.93      0.98      0.95        94\n",
      "           1       0.97      0.91      0.94        77\n",
      "\n",
      "    accuracy                           0.95       171\n",
      "   macro avg       0.95      0.94      0.95       171\n",
      "weighted avg       0.95      0.95      0.95       171\n",
      " \n",
      " \n",
      "\n"
     ]
    },
    {
     "data": {
      "text/plain": [
       "array([[92,  2],\n",
       "       [ 7, 70]], dtype=int64)"
      ]
     },
     "execution_count": 8,
     "metadata": {},
     "output_type": "execute_result"
    }
   ],
   "source": [
    "print(classification_report(y_test, pred),'\\n','\\n')\n",
    "confusion_matrix(y_test, pred)"
   ]
  },
  {
   "cell_type": "markdown",
   "id": "challenging-right",
   "metadata": {
    "papermill": {
     "duration": 0.015768,
     "end_time": "2021-04-13T19:01:20.794514",
     "exception": false,
     "start_time": "2021-04-13T19:01:20.778746",
     "status": "completed"
    },
    "tags": []
   },
   "source": [
    "**The Confusion Matrix shows that out of 94 predicted to not have breast cancer , 2 were falsely classified as they actually had cancer , while in case of 77 predicted to have cancer , 6 were falsely classified as they didnt have cancer.**"
   ]
  },
  {
   "attachments": {
    "15a84ea0-f8b4-498d-b117-826d179471a4.jpg": {
     "image/jpeg": "[encoded data removed]"
    }
   },
   "cell_type": "markdown",
   "id": "neural-precipitation",
   "metadata": {
    "papermill": {
     "duration": 0.016449,
     "end_time": "2021-04-13T19:01:20.827057",
     "exception": false,
     "start_time": "2021-04-13T19:01:20.810608",
     "status": "completed"
    },
    "tags": []
   },
   "source": [
    "![j.jpg](attachment:15a84ea0-f8b4-498d-b117-826d179471a4.jpg)"
   ]
  }
 ],
 "metadata": {
  "kernelspec": {
   "display_name": "Python 3",
   "language": "python",
   "name": "python3"
  },
  "language_info": {
   "codemirror_mode": {
    "name": "ipython",
    "version": 3
   },
   "file_extension": ".py",
   "mimetype": "text/x-python",
   "name": "python",
   "nbconvert_exporter": "python",
   "pygments_lexer": "ipython3",
   "version": "3.8.8"
  },
  "papermill": {
   "default_parameters": {},
   "duration": 10.409956,
   "end_time": "2021-04-13T19:01:21.553321",
   "environment_variables": {},
   "exception": null,
   "input_path": "__notebook__.ipynb",
   "output_path": "__notebook__.ipynb",
   "parameters": {},
   "start_time": "2021-04-13T19:01:11.143365",
   "version": "2.3.2"
  }
 },
 "nbformat": 4,
 "nbformat_minor": 5
}
